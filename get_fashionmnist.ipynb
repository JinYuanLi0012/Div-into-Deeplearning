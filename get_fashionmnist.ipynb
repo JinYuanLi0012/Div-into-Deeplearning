{
 "cells": [
  {
   "cell_type": "code",
   "execution_count": 1,
   "id": "7d3bcd2b",
   "metadata": {},
   "outputs": [],
   "source": [
    "import torch\n",
    "import torchvision\n",
    "import torchvision.transforms as transforms\n",
    "from d2l import torch as d2l\n",
    "from torch.utils import data"
   ]
  },
  {
   "cell_type": "code",
   "execution_count": 2,
   "id": "f2ccf7d3",
   "metadata": {},
   "outputs": [
    {
     "data": {
      "text/plain": [
       "(60000, 10000)"
      ]
     },
     "execution_count": 2,
     "metadata": {},
     "output_type": "execute_result"
    }
   ],
   "source": [
    "# mnist_train = torchvision.datasets.FashionMNIST(root=\"./data\", train=True, transform=transforms.ToTensor(),download=True)\n",
    "\n",
    "# mnist_test = torchvision.datasets.FashionMNIST(root=\"./data\", train=False, transform=transforms.ToTensor(),download=True)\n",
    "\n",
    "# len(mnist_train),len(mnist_test)"
   ]
  },
  {
   "cell_type": "code",
   "execution_count": 3,
   "id": "54c2d1dd",
   "metadata": {},
   "outputs": [
    {
     "data": {
      "text/plain": [
       "'4.72 sec'"
      ]
     },
     "execution_count": 3,
     "metadata": {},
     "output_type": "execute_result"
    }
   ],
   "source": [
    "# batch_size = 256\n",
    "\n",
    "# train_iter = data.DataLoader(mnist_train, batch_size, shuffle=True, num_workers=8)\n",
    "\n",
    "# timer = d2l.Timer()\n",
    "\n",
    "# for X,y in train_iter:\n",
    "#     continue\n",
    "# f'{timer.stop():.2f} sec'"
   ]
  },
  {
   "cell_type": "code",
   "execution_count": 8,
   "id": "378aa70c",
   "metadata": {},
   "outputs": [
    {
     "name": "stdout",
     "output_type": "stream",
     "text": [
      "done\n"
     ]
    },
    {
     "data": {
      "text/plain": [
       "(<torch.utils.data.dataloader.DataLoader at 0x1803304ac48>,\n",
       " <torch.utils.data.dataloader.DataLoader at 0x1803a4f9cc8>)"
      ]
     },
     "execution_count": 8,
     "metadata": {},
     "output_type": "execute_result"
    }
   ],
   "source": [
    "def load_fashion_mnist(batch_size):\n",
    "   \n",
    "    mnist_train = torchvision.datasets.FashionMNIST(root=\"./data\", train=True, transform=transforms.ToTensor(),download=True)\n",
    "\n",
    "    mnist_test = torchvision.datasets.FashionMNIST(root=\"./data\", train=False, transform=transforms.ToTensor(),download=True)\n",
    "\n",
    "\n",
    "    train_iter = data.DataLoader(mnist_train, batch_size, shuffle=True, num_workers=8)\n",
    "    test_iter = data.DataLoader(mnist_test, batch_size, shuffle=False, num_workers=8)\n",
    "    \n",
    "    print('done')\n",
    "    \n",
    "    return (train_iter, test_iter)\n",
    "\n",
    "load_fashion_mnist(256)"
   ]
  }
 ],
 "metadata": {
  "kernelspec": {
   "display_name": "tf21",
   "language": "python",
   "name": "tf21"
  },
  "language_info": {
   "codemirror_mode": {
    "name": "ipython",
    "version": 3
   },
   "file_extension": ".py",
   "mimetype": "text/x-python",
   "name": "python",
   "nbconvert_exporter": "python",
   "pygments_lexer": "ipython3",
   "version": "3.7.13"
  }
 },
 "nbformat": 4,
 "nbformat_minor": 5
}
